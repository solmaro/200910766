{
 "cells": [
  {
   "cell_type": "code",
   "execution_count": 16,
   "metadata": {
    "collapsed": true
   },
   "outputs": [],
   "source": [
    "import oauth2 as oauth"
   ]
  },
  {
   "cell_type": "code",
   "execution_count": 17,
   "metadata": {
    "collapsed": true
   },
   "outputs": [],
   "source": [
    "def getKey(keyPath):\n",
    "    d=dict()\n",
    "    f=open(keyPath,'r')\n",
    "    for line in f.readlines():\n",
    "        row=line.split('=')\n",
    "        row0=row[0]\n",
    "        d[row0]=row[1].strip()\n",
    "    return d"
   ]
  },
  {
   "cell_type": "code",
   "execution_count": 18,
   "metadata": {
    "collapsed": true
   },
   "outputs": [],
   "source": [
    "import os\n",
    "\n",
    "keyPath=os.path.join(os.getcwd(), 'src', 'twitter4j.properties')\n",
    "key=getKey(keyPath)"
   ]
  },
  {
   "cell_type": "code",
   "execution_count": 22,
   "metadata": {
    "collapsed": true
   },
   "outputs": [],
   "source": [
    "import oauth2 as oauth\n",
    "import json\n",
    "\n",
    "consumer = oauth.Consumer(key=key['CONSUMERKEY'], secret=key['CONSUMERSECRET'])\n",
    "token=oauth.Token(key=key['ACCESSTOKEN'], secret=key['ACCESSTOKENSECRET'])"
   ]
  },
  {
   "cell_type": "code",
   "execution_count": 23,
   "metadata": {
    "collapsed": true
   },
   "outputs": [],
   "source": [
    "client = oauth.Client(consumer, token)"
   ]
  },
  {
   "cell_type": "code",
   "execution_count": 24,
   "metadata": {
    "collapsed": false
   },
   "outputs": [],
   "source": [
    "import urllib\n",
    "url = \"https://api.twitter.com/1.1/search/tweets.json\"\n",
    "myparam={'q':'seoul','count':200,'max_id':'754295227351871489'}\n",
    "mybody=urllib.urlencode(myparam)\n",
    "response, content = client.request(url+\"?\"+mybody, method=\"GET\")\n",
    "tsearch_json = json.loads(content)"
   ]
  },
  {
   "cell_type": "code",
   "execution_count": 25,
   "metadata": {
    "collapsed": false
   },
   "outputs": [],
   "source": [
    "f=open('_todel.txt','w')\n",
    "for i,tweet in enumerate(tsearch_json['statuses']):\n",
    "    f.write(json.dumps([str(i),tweet['id'],tweet['user']['name']]))\n",
    "    f.write(\"\\n\")\n",
    "f.close()"
   ]
  },
  {
   "cell_type": "code",
   "execution_count": 26,
   "metadata": {
    "collapsed": true
   },
   "outputs": [],
   "source": [
    "import urllib\n",
    "url = \"https://api.twitter.com/1.1/search/tweets.json\""
   ]
  },
  {
   "cell_type": "code",
   "execution_count": 27,
   "metadata": {
    "collapsed": false
   },
   "outputs": [
    {
     "name": "stdout",
     "output_type": "stream",
     "text": [
      "10\n",
      "799135069789044735\n",
      "10\n",
      "799134876922355712\n",
      "10\n",
      "799134712908287999\n",
      "10\n",
      "799134515335602175\n",
      "10\n",
      "799134353318023167\n",
      "10\n",
      "799134242865348607\n",
      "10\n",
      "799134073796980735\n",
      "10\n",
      "799133935703687169\n",
      "10\n",
      "799133787560898559\n",
      "10\n",
      "799133656270983167\n",
      "10\n",
      "799133472547667967\n",
      "10\n",
      "799133373767684095\n",
      "10\n",
      "799133199527837695\n",
      "10\n",
      "799133065989787648\n",
      "10\n",
      "799132906211811327\n",
      "10\n",
      "799132720152461311\n",
      "10\n",
      "799132489331580928\n",
      "10\n",
      "799132349422149631\n",
      "10\n",
      "799132239493615615\n",
      "10\n",
      "799132161366339583\n"
     ]
    }
   ],
   "source": [
    "prev_id=None\n",
    "f=open('_todel3.txt','a')\n",
    "for i in range(0,20):\n",
    "    myparam={'q':'seoul','count':10,'max_id':prev_id}\n",
    "    mybody=urllib.urlencode(myparam)\n",
    "    response, content = client.request(url+\"?\"+mybody, method=\"GET\")\n",
    "    tsearch_json = json.loads(content)\n",
    "    print len(tsearch_json['statuses'])\n",
    "    for i,tweet in enumerate(tsearch_json['statuses']):\n",
    "        f.write(json.dumps([str(i),tweet['id'],tweet['user']['name']]))\n",
    "        f.write(\"\\n\")\n",
    "    prev_id=int(tsearch_json['statuses'][-1]['id'])-1\n",
    "    print prev_id\n",
    "f.close()"
   ]
  },
  {
   "cell_type": "code",
   "execution_count": 28,
   "metadata": {
    "collapsed": false
   },
   "outputs": [
    {
     "name": "stdout",
     "output_type": "stream",
     "text": [
      "0 799132238923190272\n",
      "1 799132213950312450\n",
      "2 799132201187037184\n",
      "3 799132200465731584\n",
      "4 799132199081492480\n",
      "5 799132198498508800\n",
      "6 799132196917231616\n",
      "7 799132168861552640\n",
      "8 799132165824909312\n",
      "9 799132161366339584\n"
     ]
    }
   ],
   "source": [
    "f=open('ds_twitter_3.txt','w')\n",
    "for i,tweet in enumerate(tsearch_json['statuses']):\n",
    "    print i, tweet['id']\n",
    "    j=json.dumps([i,tweet['id']])\n",
    "    f.write(j)\n",
    "f.close()"
   ]
  }
 ],
 "metadata": {
  "kernelspec": {
   "display_name": "Python [Root]",
   "language": "python",
   "name": "Python [Root]"
  },
  "language_info": {
   "codemirror_mode": {
    "name": "ipython",
    "version": 2
   },
   "file_extension": ".py",
   "mimetype": "text/x-python",
   "name": "python",
   "nbconvert_exporter": "python",
   "pygments_lexer": "ipython2",
   "version": "2.7.12"
  }
 },
 "nbformat": 4,
 "nbformat_minor": 0
}
